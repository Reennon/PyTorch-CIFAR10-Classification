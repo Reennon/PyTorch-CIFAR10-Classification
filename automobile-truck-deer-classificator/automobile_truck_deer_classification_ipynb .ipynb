{
  "nbformat": 4,
  "nbformat_minor": 0,
  "metadata": {
    "colab": {
      "name": "automobile-truck-deer-classification.ipynb\"",
      "provenance": [],
      "collapsed_sections": [],
      "toc_visible": true
    },
    "kernelspec": {
      "name": "python3",
      "display_name": "Python 3"
    },
    "language_info": {
      "name": "python"
    },
    "widgets": {
      "application/vnd.jupyter.widget-state+json": {
        "f960967687814b3596dd7ec992060755": {
          "model_module": "@jupyter-widgets/controls",
          "model_name": "HBoxModel",
          "model_module_version": "1.5.0",
          "state": {
            "_view_name": "HBoxView",
            "_dom_classes": [],
            "_model_name": "HBoxModel",
            "_view_module": "@jupyter-widgets/controls",
            "_model_module_version": "1.5.0",
            "_view_count": null,
            "_view_module_version": "1.5.0",
            "box_style": "",
            "layout": "IPY_MODEL_17848c5193db49b89dcb3cb28794e36d",
            "_model_module": "@jupyter-widgets/controls",
            "children": [
              "IPY_MODEL_c160674cead24b569223217fc92a24ac",
              "IPY_MODEL_08ff9feda0ed4799becaf3f910a90c0d",
              "IPY_MODEL_0756d74c6403470aadd7be60af90bc31"
            ]
          }
        },
        "17848c5193db49b89dcb3cb28794e36d": {
          "model_module": "@jupyter-widgets/base",
          "model_name": "LayoutModel",
          "model_module_version": "1.2.0",
          "state": {
            "_view_name": "LayoutView",
            "grid_template_rows": null,
            "right": null,
            "justify_content": null,
            "_view_module": "@jupyter-widgets/base",
            "overflow": null,
            "_model_module_version": "1.2.0",
            "_view_count": null,
            "flex_flow": null,
            "width": null,
            "min_width": null,
            "border": null,
            "align_items": null,
            "bottom": null,
            "_model_module": "@jupyter-widgets/base",
            "top": null,
            "grid_column": null,
            "overflow_y": null,
            "overflow_x": null,
            "grid_auto_flow": null,
            "grid_area": null,
            "grid_template_columns": null,
            "flex": null,
            "_model_name": "LayoutModel",
            "justify_items": null,
            "grid_row": null,
            "max_height": null,
            "align_content": null,
            "visibility": null,
            "align_self": null,
            "height": null,
            "min_height": null,
            "padding": null,
            "grid_auto_rows": null,
            "grid_gap": null,
            "max_width": null,
            "order": null,
            "_view_module_version": "1.2.0",
            "grid_template_areas": null,
            "object_position": null,
            "object_fit": null,
            "grid_auto_columns": null,
            "margin": null,
            "display": null,
            "left": null
          }
        },
        "c160674cead24b569223217fc92a24ac": {
          "model_module": "@jupyter-widgets/controls",
          "model_name": "HTMLModel",
          "model_module_version": "1.5.0",
          "state": {
            "_view_name": "HTMLView",
            "style": "IPY_MODEL_31c9867a16f14bd2b41bd7cf639841b6",
            "_dom_classes": [],
            "description": "",
            "_model_name": "HTMLModel",
            "placeholder": "​",
            "_view_module": "@jupyter-widgets/controls",
            "_model_module_version": "1.5.0",
            "value": "",
            "_view_count": null,
            "_view_module_version": "1.5.0",
            "description_tooltip": null,
            "_model_module": "@jupyter-widgets/controls",
            "layout": "IPY_MODEL_8b83f21416394a08b3ebd204e83696b4"
          }
        },
        "08ff9feda0ed4799becaf3f910a90c0d": {
          "model_module": "@jupyter-widgets/controls",
          "model_name": "FloatProgressModel",
          "model_module_version": "1.5.0",
          "state": {
            "_view_name": "ProgressView",
            "style": "IPY_MODEL_414e7192ae7148c09360f9e64f39ff00",
            "_dom_classes": [],
            "description": "",
            "_model_name": "FloatProgressModel",
            "bar_style": "success",
            "max": 170498071,
            "_view_module": "@jupyter-widgets/controls",
            "_model_module_version": "1.5.0",
            "value": 170498071,
            "_view_count": null,
            "_view_module_version": "1.5.0",
            "orientation": "horizontal",
            "min": 0,
            "description_tooltip": null,
            "_model_module": "@jupyter-widgets/controls",
            "layout": "IPY_MODEL_a648e866cbdf46e7b1bc17d4ac528498"
          }
        },
        "0756d74c6403470aadd7be60af90bc31": {
          "model_module": "@jupyter-widgets/controls",
          "model_name": "HTMLModel",
          "model_module_version": "1.5.0",
          "state": {
            "_view_name": "HTMLView",
            "style": "IPY_MODEL_8c8ea77296a240ce9ac68dac65474367",
            "_dom_classes": [],
            "description": "",
            "_model_name": "HTMLModel",
            "placeholder": "​",
            "_view_module": "@jupyter-widgets/controls",
            "_model_module_version": "1.5.0",
            "value": " 170499072/? [00:02&lt;00:00, 71905434.99it/s]",
            "_view_count": null,
            "_view_module_version": "1.5.0",
            "description_tooltip": null,
            "_model_module": "@jupyter-widgets/controls",
            "layout": "IPY_MODEL_424bc9cecefd42d1b7a3d3a26b85ff55"
          }
        },
        "31c9867a16f14bd2b41bd7cf639841b6": {
          "model_module": "@jupyter-widgets/controls",
          "model_name": "DescriptionStyleModel",
          "model_module_version": "1.5.0",
          "state": {
            "_view_name": "StyleView",
            "_model_name": "DescriptionStyleModel",
            "description_width": "",
            "_view_module": "@jupyter-widgets/base",
            "_model_module_version": "1.5.0",
            "_view_count": null,
            "_view_module_version": "1.2.0",
            "_model_module": "@jupyter-widgets/controls"
          }
        },
        "8b83f21416394a08b3ebd204e83696b4": {
          "model_module": "@jupyter-widgets/base",
          "model_name": "LayoutModel",
          "model_module_version": "1.2.0",
          "state": {
            "_view_name": "LayoutView",
            "grid_template_rows": null,
            "right": null,
            "justify_content": null,
            "_view_module": "@jupyter-widgets/base",
            "overflow": null,
            "_model_module_version": "1.2.0",
            "_view_count": null,
            "flex_flow": null,
            "width": null,
            "min_width": null,
            "border": null,
            "align_items": null,
            "bottom": null,
            "_model_module": "@jupyter-widgets/base",
            "top": null,
            "grid_column": null,
            "overflow_y": null,
            "overflow_x": null,
            "grid_auto_flow": null,
            "grid_area": null,
            "grid_template_columns": null,
            "flex": null,
            "_model_name": "LayoutModel",
            "justify_items": null,
            "grid_row": null,
            "max_height": null,
            "align_content": null,
            "visibility": null,
            "align_self": null,
            "height": null,
            "min_height": null,
            "padding": null,
            "grid_auto_rows": null,
            "grid_gap": null,
            "max_width": null,
            "order": null,
            "_view_module_version": "1.2.0",
            "grid_template_areas": null,
            "object_position": null,
            "object_fit": null,
            "grid_auto_columns": null,
            "margin": null,
            "display": null,
            "left": null
          }
        },
        "414e7192ae7148c09360f9e64f39ff00": {
          "model_module": "@jupyter-widgets/controls",
          "model_name": "ProgressStyleModel",
          "model_module_version": "1.5.0",
          "state": {
            "_view_name": "StyleView",
            "_model_name": "ProgressStyleModel",
            "description_width": "",
            "_view_module": "@jupyter-widgets/base",
            "_model_module_version": "1.5.0",
            "_view_count": null,
            "_view_module_version": "1.2.0",
            "bar_color": null,
            "_model_module": "@jupyter-widgets/controls"
          }
        },
        "a648e866cbdf46e7b1bc17d4ac528498": {
          "model_module": "@jupyter-widgets/base",
          "model_name": "LayoutModel",
          "model_module_version": "1.2.0",
          "state": {
            "_view_name": "LayoutView",
            "grid_template_rows": null,
            "right": null,
            "justify_content": null,
            "_view_module": "@jupyter-widgets/base",
            "overflow": null,
            "_model_module_version": "1.2.0",
            "_view_count": null,
            "flex_flow": null,
            "width": null,
            "min_width": null,
            "border": null,
            "align_items": null,
            "bottom": null,
            "_model_module": "@jupyter-widgets/base",
            "top": null,
            "grid_column": null,
            "overflow_y": null,
            "overflow_x": null,
            "grid_auto_flow": null,
            "grid_area": null,
            "grid_template_columns": null,
            "flex": null,
            "_model_name": "LayoutModel",
            "justify_items": null,
            "grid_row": null,
            "max_height": null,
            "align_content": null,
            "visibility": null,
            "align_self": null,
            "height": null,
            "min_height": null,
            "padding": null,
            "grid_auto_rows": null,
            "grid_gap": null,
            "max_width": null,
            "order": null,
            "_view_module_version": "1.2.0",
            "grid_template_areas": null,
            "object_position": null,
            "object_fit": null,
            "grid_auto_columns": null,
            "margin": null,
            "display": null,
            "left": null
          }
        },
        "8c8ea77296a240ce9ac68dac65474367": {
          "model_module": "@jupyter-widgets/controls",
          "model_name": "DescriptionStyleModel",
          "model_module_version": "1.5.0",
          "state": {
            "_view_name": "StyleView",
            "_model_name": "DescriptionStyleModel",
            "description_width": "",
            "_view_module": "@jupyter-widgets/base",
            "_model_module_version": "1.5.0",
            "_view_count": null,
            "_view_module_version": "1.2.0",
            "_model_module": "@jupyter-widgets/controls"
          }
        },
        "424bc9cecefd42d1b7a3d3a26b85ff55": {
          "model_module": "@jupyter-widgets/base",
          "model_name": "LayoutModel",
          "model_module_version": "1.2.0",
          "state": {
            "_view_name": "LayoutView",
            "grid_template_rows": null,
            "right": null,
            "justify_content": null,
            "_view_module": "@jupyter-widgets/base",
            "overflow": null,
            "_model_module_version": "1.2.0",
            "_view_count": null,
            "flex_flow": null,
            "width": null,
            "min_width": null,
            "border": null,
            "align_items": null,
            "bottom": null,
            "_model_module": "@jupyter-widgets/base",
            "top": null,
            "grid_column": null,
            "overflow_y": null,
            "overflow_x": null,
            "grid_auto_flow": null,
            "grid_area": null,
            "grid_template_columns": null,
            "flex": null,
            "_model_name": "LayoutModel",
            "justify_items": null,
            "grid_row": null,
            "max_height": null,
            "align_content": null,
            "visibility": null,
            "align_self": null,
            "height": null,
            "min_height": null,
            "padding": null,
            "grid_auto_rows": null,
            "grid_gap": null,
            "max_width": null,
            "order": null,
            "_view_module_version": "1.2.0",
            "grid_template_areas": null,
            "object_position": null,
            "object_fit": null,
            "grid_auto_columns": null,
            "margin": null,
            "display": null,
            "left": null
          }
        }
      }
    }
  },
  "cells": [
    {
      "cell_type": "code",
      "metadata": {
        "id": "zFcg6LxUsuAS"
      },
      "source": [
        "import torch\n",
        "from torchvision import datasets"
      ],
      "execution_count": 39,
      "outputs": []
    },
    {
      "cell_type": "code",
      "metadata": {
        "colab": {
          "base_uri": "https://localhost:8080/",
          "height": 105,
          "referenced_widgets": [
            "f960967687814b3596dd7ec992060755",
            "17848c5193db49b89dcb3cb28794e36d",
            "c160674cead24b569223217fc92a24ac",
            "08ff9feda0ed4799becaf3f910a90c0d",
            "0756d74c6403470aadd7be60af90bc31",
            "31c9867a16f14bd2b41bd7cf639841b6",
            "8b83f21416394a08b3ebd204e83696b4",
            "414e7192ae7148c09360f9e64f39ff00",
            "a648e866cbdf46e7b1bc17d4ac528498",
            "8c8ea77296a240ce9ac68dac65474367",
            "424bc9cecefd42d1b7a3d3a26b85ff55"
          ]
        },
        "id": "jAG7iXrNtw1n",
        "outputId": "81638692-6fc5-43c9-8974-3fe0033618b3"
      },
      "source": [
        "data_path = './datasets/'\n",
        "cifar10 = datasets.CIFAR10(data_path, train=True, download=True)\n",
        "cifar10_val = datasets.CIFAR10(data_path, train=False, download=True)"
      ],
      "execution_count": 2,
      "outputs": [
        {
          "output_type": "stream",
          "name": "stdout",
          "text": [
            "Downloading https://www.cs.toronto.edu/~kriz/cifar-10-python.tar.gz to ./datasets/cifar-10-python.tar.gz\n"
          ]
        },
        {
          "output_type": "display_data",
          "data": {
            "application/vnd.jupyter.widget-view+json": {
              "model_id": "f960967687814b3596dd7ec992060755",
              "version_minor": 0,
              "version_major": 2
            },
            "text/plain": [
              "  0%|          | 0/170498071 [00:00<?, ?it/s]"
            ]
          },
          "metadata": {}
        },
        {
          "output_type": "stream",
          "name": "stdout",
          "text": [
            "Extracting ./datasets/cifar-10-python.tar.gz to ./datasets/\n",
            "Files already downloaded and verified\n"
          ]
        }
      ]
    },
    {
      "cell_type": "code",
      "metadata": {
        "id": "6By0lMZst3Hm"
      },
      "source": [
        "from torchvision import transforms"
      ],
      "execution_count": 4,
      "outputs": []
    },
    {
      "cell_type": "code",
      "metadata": {
        "id": "ebM4j14Mugiu"
      },
      "source": [
        "tensor_cifar10 = datasets.CIFAR10(\n",
        "    data_path,\n",
        "    train=True,\n",
        "    download=False,\n",
        "    transform=transforms.ToTensor())"
      ],
      "execution_count": 5,
      "outputs": []
    },
    {
      "cell_type": "code",
      "metadata": {
        "id": "Ks_4a1ZUupEW"
      },
      "source": [
        "import matplotlib.pyplot as plt"
      ],
      "execution_count": 6,
      "outputs": []
    },
    {
      "cell_type": "code",
      "metadata": {
        "colab": {
          "base_uri": "https://localhost:8080/",
          "height": 266
        },
        "id": "3jTAn8lKuUQn",
        "outputId": "974fdff5-8a75-4367-b712-e552acf613ea"
      },
      "source": [
        "img_t, _ = tensor_cifar10[50]\n",
        "plt.imshow(img_t.permute(1, 2, 0))\n",
        "\n",
        "plt.show()"
      ],
      "execution_count": 9,
      "outputs": [
        {
          "output_type": "display_data",
          "data": {
            "image/png": "[encoded data removed]",
            "text/plain": [
              "<Figure size 432x288 with 1 Axes>"
            ]
          },
          "metadata": {
            "needs_background": "light"
          }
        }
      ]
    },
    {
      "cell_type": "code",
      "metadata": {
        "id": "6qnFIwkEvAQd"
      },
      "source": [
        "imgs = torch.stack([img_t for img_t, _ in tensor_cifar10], dim=3)"
      ],
      "execution_count": 10,
      "outputs": []
    },
    {
      "cell_type": "code",
      "metadata": {
        "colab": {
          "base_uri": "https://localhost:8080/"
        },
        "id": "qfzW2AMqvSS5",
        "outputId": "84d87d03-3bda-4cde-93b7-cc968febb038"
      },
      "source": [
        "imgs.shape"
      ],
      "execution_count": 11,
      "outputs": [
        {
          "output_type": "execute_result",
          "data": {
            "text/plain": [
              "torch.Size([3, 32, 32, 50000])"
            ]
          },
          "metadata": {},
          "execution_count": 11
        }
      ]
    },
    {
      "cell_type": "code",
      "metadata": {
        "colab": {
          "base_uri": "https://localhost:8080/"
        },
        "id": "RiWmkr_gvDby",
        "outputId": "9ec12af5-9d58-4eda-c9b2-e66469c72dbe"
      },
      "source": [
        "imgs.view(3, -1).mean(dim=1)"
      ],
      "execution_count": 12,
      "outputs": [
        {
          "output_type": "execute_result",
          "data": {
            "text/plain": [
              "tensor([0.4914, 0.4822, 0.4465])"
            ]
          },
          "metadata": {},
          "execution_count": 12
        }
      ]
    },
    {
      "cell_type": "code",
      "metadata": {
        "colab": {
          "base_uri": "https://localhost:8080/"
        },
        "id": "Sr7mBJPvvD_Z",
        "outputId": "a88f6207-dc98-4952-df05-0cca11d403b4"
      },
      "source": [
        "imgs.view(3, -1).std(dim=1)"
      ],
      "execution_count": 13,
      "outputs": [
        {
          "output_type": "execute_result",
          "data": {
            "text/plain": [
              "tensor([0.2470, 0.2435, 0.2616])"
            ]
          },
          "metadata": {},
          "execution_count": 13
        }
      ]
    },
    {
      "cell_type": "code",
      "metadata": {
        "id": "-QlHRySyvkFi"
      },
      "source": [
        "transformed_cifar10 = datasets.CIFAR10(\n",
        "  data_path,\n",
        "  train=True,\n",
        "  download=False,\n",
        "  transform=transforms.Compose([\n",
        "    transforms.ToTensor(),\n",
        "    transforms.Normalize((0.4914, 0.4822, 0.4465),\n",
        "                         (0.2470, 0.2435, 0.2616))\n",
        "]))"
      ],
      "execution_count": 14,
      "outputs": []
    },
    {
      "cell_type": "code",
      "metadata": {
        "colab": {
          "base_uri": "https://localhost:8080/",
          "height": 285
        },
        "id": "PQvww-Xhv5ct",
        "outputId": "0fa93abb-d891-4628-c9d1-f619b5cf8644"
      },
      "source": [
        "img_t, _ = transformed_cifar10[50]\n",
        "plt.imshow(img_t.permute(1, 2, 0))\n",
        "plt.show()"
      ],
      "execution_count": 16,
      "outputs": [
        {
          "output_type": "stream",
          "name": "stderr",
          "text": [
            "Clipping input data to the valid range for imshow with RGB data ([0..1] for floats or [0..255] for integers).\n"
          ]
        },
        {
          "output_type": "display_data",
          "data": {
            "image/png": "[encoded data removed]",
            "text/plain": [
              "<Figure size 432x288 with 1 Axes>"
            ]
          },
          "metadata": {
            "needs_background": "light"
          }
        }
      ]
    },
    {
      "cell_type": "code",
      "metadata": {
        "id": "dg9QvYvOyzJ0"
      },
      "source": [
        "preprocess = transforms.Compose([\n",
        "  transforms.ToTensor()\n",
        "])"
      ],
      "execution_count": 23,
      "outputs": []
    },
    {
      "cell_type": "code",
      "metadata": {
        "id": "x1vp4tYQwBuM"
      },
      "source": [
        "label_map = {1: 0, 9: 1, 4: 2 }\n",
        "class_names = ['automobile', 'truck', 'deer']\n",
        "\n",
        "cifar2 = [(preprocess(img), label_map[label])\n",
        "          for img, label in cifar10\n",
        "          if label in [1, 9, 4]]\n",
        "cifar2_val = [(preprocess(img), label_map[label])\n",
        "              for img, label in cifar10_val\n",
        "              if label in [1, 9, 4]]"
      ],
      "execution_count": 24,
      "outputs": []
    },
    {
      "cell_type": "code",
      "metadata": {
        "id": "aq2KEgAUxFEb"
      },
      "source": [
        "import torchvision.transforms.functional"
      ],
      "execution_count": 25,
      "outputs": []
    },
    {
      "cell_type": "code",
      "metadata": {
        "id": "HCOrKg9F3XTG"
      },
      "source": [
        "train_loader = torch.utils.data.DataLoader(\n",
        "    cifar2, \n",
        "    batch_size=128, \n",
        "    shuffle=True)\n",
        "val_loader = torch.utils.data.DataLoader(\n",
        "    cifar2_val,\n",
        "    batch_size=128,\n",
        "    shuffle=False)"
      ],
      "execution_count": 31,
      "outputs": []
    },
    {
      "cell_type": "code",
      "metadata": {
        "colab": {
          "base_uri": "https://localhost:8080/"
        },
        "id": "f9UkhP5b0mP_",
        "outputId": "e3087a28-32e3-4e90-f6a6-9f6a72481d05"
      },
      "source": [
        "learning_rate = 1e-3\n",
        "model = torch.nn.Sequential(\n",
        "  torch.nn.Linear(3072, 1024),\n",
        "  torch.nn.Tanh(),\n",
        "  torch.nn.Linear(1024, 512),\n",
        "  torch.nn.Tanh(),\n",
        "  torch.nn.Linear(512, 128),\n",
        "  torch.nn.Tanh(),\n",
        "  torch.nn.Linear(128, 3),\n",
        "  torch.nn.LogSoftmax(dim=1))\n",
        "\n",
        "optimizer = torch.optim.SGD(model.parameters(), lr=learning_rate)\n",
        "loss_fn = torch.nn.NLLLoss()\n",
        "\n",
        "n_epochs = 200\n",
        "\n",
        "for epoch in range(n_epochs):\n",
        "  for imgs, labels in train_loader:\n",
        "    batch_size = imgs.shape[0]\n",
        "    outputs = model(imgs.view(batch_size, -1))\n",
        "    loss = loss_fn(outputs, labels)\n",
        "\n",
        "    optimizer.zero_grad()\n",
        "    loss.backward()\n",
        "    optimizer.step()\n",
        "\n",
        "  print(\"Epoch: %d, Loss: %f\" % (epoch, float(loss)))"
      ],
      "execution_count": 47,
      "outputs": [
        {
          "output_type": "stream",
          "name": "stdout",
          "text": [
            "Epoch: 0, Loss: 1.086385\n",
            "Epoch: 1, Loss: 1.058197\n",
            "Epoch: 2, Loss: 1.054489\n",
            "Epoch: 3, Loss: 1.053309\n",
            "Epoch: 4, Loss: 1.078442\n",
            "Epoch: 5, Loss: 1.019952\n",
            "Epoch: 6, Loss: 1.034665\n",
            "Epoch: 7, Loss: 0.978997\n",
            "Epoch: 8, Loss: 0.970478\n",
            "Epoch: 9, Loss: 1.027714\n",
            "Epoch: 10, Loss: 0.912240\n",
            "Epoch: 11, Loss: 0.927990\n",
            "Epoch: 12, Loss: 0.878306\n",
            "Epoch: 13, Loss: 0.749323\n",
            "Epoch: 14, Loss: 0.957643\n",
            "Epoch: 15, Loss: 1.017423\n",
            "Epoch: 16, Loss: 0.803906\n",
            "Epoch: 17, Loss: 0.869398\n",
            "Epoch: 18, Loss: 0.917595\n",
            "Epoch: 19, Loss: 0.898324\n",
            "Epoch: 20, Loss: 0.757743\n",
            "Epoch: 21, Loss: 0.791250\n",
            "Epoch: 22, Loss: 0.934719\n",
            "Epoch: 23, Loss: 0.812626\n",
            "Epoch: 24, Loss: 0.662544\n",
            "Epoch: 25, Loss: 0.742634\n",
            "Epoch: 26, Loss: 0.985073\n",
            "Epoch: 27, Loss: 0.610832\n",
            "Epoch: 28, Loss: 0.885966\n",
            "Epoch: 29, Loss: 0.913691\n",
            "Epoch: 30, Loss: 0.747874\n",
            "Epoch: 31, Loss: 0.833263\n",
            "Epoch: 32, Loss: 0.774050\n",
            "Epoch: 33, Loss: 0.797832\n",
            "Epoch: 34, Loss: 0.752107\n",
            "Epoch: 35, Loss: 0.959638\n",
            "Epoch: 36, Loss: 0.811857\n",
            "Epoch: 37, Loss: 0.754959\n",
            "Epoch: 38, Loss: 0.779150\n",
            "Epoch: 39, Loss: 0.743859\n",
            "Epoch: 40, Loss: 0.565346\n",
            "Epoch: 41, Loss: 0.764898\n",
            "Epoch: 42, Loss: 0.780807\n",
            "Epoch: 43, Loss: 0.864295\n",
            "Epoch: 44, Loss: 0.590783\n",
            "Epoch: 45, Loss: 0.891900\n",
            "Epoch: 46, Loss: 0.857524\n",
            "Epoch: 47, Loss: 0.739224\n",
            "Epoch: 48, Loss: 0.855950\n",
            "Epoch: 49, Loss: 0.853500\n",
            "Epoch: 50, Loss: 0.689880\n",
            "Epoch: 51, Loss: 0.857943\n",
            "Epoch: 52, Loss: 0.829169\n",
            "Epoch: 53, Loss: 0.977898\n",
            "Epoch: 54, Loss: 0.808354\n",
            "Epoch: 55, Loss: 0.785398\n",
            "Epoch: 56, Loss: 0.784600\n",
            "Epoch: 57, Loss: 0.806746\n",
            "Epoch: 58, Loss: 0.952351\n",
            "Epoch: 59, Loss: 0.641986\n",
            "Epoch: 60, Loss: 0.655684\n",
            "Epoch: 61, Loss: 0.622185\n",
            "Epoch: 62, Loss: 0.864569\n",
            "Epoch: 63, Loss: 0.720452\n",
            "Epoch: 64, Loss: 0.769362\n",
            "Epoch: 65, Loss: 0.644359\n",
            "Epoch: 66, Loss: 0.563262\n",
            "Epoch: 67, Loss: 0.649229\n",
            "Epoch: 68, Loss: 0.451843\n",
            "Epoch: 69, Loss: 0.651511\n",
            "Epoch: 70, Loss: 0.762468\n",
            "Epoch: 71, Loss: 0.732479\n",
            "Epoch: 72, Loss: 0.672373\n",
            "Epoch: 73, Loss: 0.846051\n",
            "Epoch: 74, Loss: 0.650354\n",
            "Epoch: 75, Loss: 1.036371\n",
            "Epoch: 76, Loss: 0.733492\n",
            "Epoch: 77, Loss: 0.776036\n",
            "Epoch: 78, Loss: 0.635762\n",
            "Epoch: 79, Loss: 0.759523\n",
            "Epoch: 80, Loss: 0.738845\n",
            "Epoch: 81, Loss: 0.670090\n",
            "Epoch: 82, Loss: 0.677973\n",
            "Epoch: 83, Loss: 0.741739\n",
            "Epoch: 84, Loss: 0.928344\n",
            "Epoch: 85, Loss: 0.644089\n",
            "Epoch: 86, Loss: 0.655745\n",
            "Epoch: 87, Loss: 0.593606\n",
            "Epoch: 88, Loss: 0.701924\n",
            "Epoch: 89, Loss: 0.732490\n",
            "Epoch: 90, Loss: 0.740212\n",
            "Epoch: 91, Loss: 0.887287\n",
            "Epoch: 92, Loss: 0.616377\n",
            "Epoch: 93, Loss: 0.911101\n",
            "Epoch: 94, Loss: 0.701441\n",
            "Epoch: 95, Loss: 0.923394\n",
            "Epoch: 96, Loss: 0.792995\n",
            "Epoch: 97, Loss: 0.701904\n",
            "Epoch: 98, Loss: 0.543899\n",
            "Epoch: 99, Loss: 0.830704\n",
            "Epoch: 100, Loss: 0.771652\n",
            "Epoch: 101, Loss: 0.716680\n",
            "Epoch: 102, Loss: 0.467301\n",
            "Epoch: 103, Loss: 0.749918\n",
            "Epoch: 104, Loss: 0.527162\n",
            "Epoch: 105, Loss: 0.607129\n",
            "Epoch: 106, Loss: 1.090882\n",
            "Epoch: 107, Loss: 0.561536\n",
            "Epoch: 108, Loss: 0.701294\n",
            "Epoch: 109, Loss: 0.828260\n",
            "Epoch: 110, Loss: 0.654880\n",
            "Epoch: 111, Loss: 0.885978\n",
            "Epoch: 112, Loss: 0.669015\n",
            "Epoch: 113, Loss: 0.628459\n",
            "Epoch: 114, Loss: 0.577132\n",
            "Epoch: 115, Loss: 0.701721\n",
            "Epoch: 116, Loss: 0.671153\n",
            "Epoch: 117, Loss: 0.766431\n",
            "Epoch: 118, Loss: 0.620282\n",
            "Epoch: 119, Loss: 0.820673\n",
            "Epoch: 120, Loss: 0.638720\n",
            "Epoch: 121, Loss: 0.628626\n",
            "Epoch: 122, Loss: 0.648955\n",
            "Epoch: 123, Loss: 0.779101\n",
            "Epoch: 124, Loss: 0.615128\n",
            "Epoch: 125, Loss: 0.760889\n",
            "Epoch: 126, Loss: 0.702563\n",
            "Epoch: 127, Loss: 0.625031\n",
            "Epoch: 128, Loss: 0.699450\n",
            "Epoch: 129, Loss: 0.950852\n",
            "Epoch: 130, Loss: 0.625828\n",
            "Epoch: 131, Loss: 0.677458\n",
            "Epoch: 132, Loss: 0.960119\n",
            "Epoch: 133, Loss: 0.470907\n",
            "Epoch: 134, Loss: 0.574653\n",
            "Epoch: 135, Loss: 0.689176\n",
            "Epoch: 136, Loss: 0.586395\n",
            "Epoch: 137, Loss: 0.788401\n",
            "Epoch: 138, Loss: 0.586923\n",
            "Epoch: 139, Loss: 0.504855\n",
            "Epoch: 140, Loss: 0.589482\n",
            "Epoch: 141, Loss: 0.723425\n",
            "Epoch: 142, Loss: 0.894342\n",
            "Epoch: 143, Loss: 0.837515\n",
            "Epoch: 144, Loss: 0.727027\n",
            "Epoch: 145, Loss: 0.820051\n",
            "Epoch: 146, Loss: 0.594304\n",
            "Epoch: 147, Loss: 0.570810\n",
            "Epoch: 148, Loss: 0.738919\n",
            "Epoch: 149, Loss: 0.616913\n",
            "Epoch: 150, Loss: 0.921567\n",
            "Epoch: 151, Loss: 0.593357\n",
            "Epoch: 152, Loss: 0.696359\n",
            "Epoch: 153, Loss: 0.743288\n",
            "Epoch: 154, Loss: 0.678080\n",
            "Epoch: 155, Loss: 0.613760\n",
            "Epoch: 156, Loss: 0.765825\n",
            "Epoch: 157, Loss: 0.525075\n",
            "Epoch: 158, Loss: 0.451811\n",
            "Epoch: 159, Loss: 0.608408\n",
            "Epoch: 160, Loss: 0.601236\n",
            "Epoch: 161, Loss: 0.750470\n",
            "Epoch: 162, Loss: 0.748717\n",
            "Epoch: 163, Loss: 0.567120\n",
            "Epoch: 164, Loss: 0.949192\n",
            "Epoch: 165, Loss: 0.624469\n",
            "Epoch: 166, Loss: 0.796862\n",
            "Epoch: 167, Loss: 0.691200\n",
            "Epoch: 168, Loss: 0.582947\n",
            "Epoch: 169, Loss: 0.623852\n",
            "Epoch: 170, Loss: 0.721077\n",
            "Epoch: 171, Loss: 0.532004\n",
            "Epoch: 172, Loss: 0.691146\n",
            "Epoch: 173, Loss: 0.698007\n",
            "Epoch: 174, Loss: 0.666105\n",
            "Epoch: 175, Loss: 0.616401\n",
            "Epoch: 176, Loss: 0.627275\n",
            "Epoch: 177, Loss: 0.585775\n",
            "Epoch: 178, Loss: 0.598016\n",
            "Epoch: 179, Loss: 0.486648\n",
            "Epoch: 180, Loss: 0.455969\n",
            "Epoch: 181, Loss: 0.486782\n",
            "Epoch: 182, Loss: 0.728277\n",
            "Epoch: 183, Loss: 0.758095\n",
            "Epoch: 184, Loss: 0.695551\n",
            "Epoch: 185, Loss: 0.731924\n",
            "Epoch: 186, Loss: 0.806740\n",
            "Epoch: 187, Loss: 0.790161\n",
            "Epoch: 188, Loss: 0.401887\n",
            "Epoch: 189, Loss: 0.714597\n",
            "Epoch: 190, Loss: 0.777948\n",
            "Epoch: 191, Loss: 0.999618\n",
            "Epoch: 192, Loss: 0.590918\n",
            "Epoch: 193, Loss: 0.533973\n",
            "Epoch: 194, Loss: 0.727605\n",
            "Epoch: 195, Loss: 0.625575\n",
            "Epoch: 196, Loss: 0.483975\n",
            "Epoch: 197, Loss: 0.721273\n",
            "Epoch: 198, Loss: 0.741797\n",
            "Epoch: 199, Loss: 0.699687\n"
          ]
        }
      ]
    },
    {
      "cell_type": "code",
      "metadata": {
        "colab": {
          "base_uri": "https://localhost:8080/"
        },
        "id": "PLlNEybg0vng",
        "outputId": "0ce631ab-38ae-4413-8190-47e6833a74d4"
      },
      "source": [
        "\n",
        "\n",
        "correct = 0\n",
        "total = 0\n",
        "\n",
        "with torch.no_grad():\n",
        "  for imgs, labels in val_loader:\n",
        "    batch_size = imgs.shape[0]\n",
        "\n",
        "    outputs = model(imgs.view(batch_size, -1))\n",
        "    _, predicted = torch.max(outputs, dim=1)\n",
        "    total += labels.shape[0]\n",
        "\n",
        "    correct += int((predicted == labels).sum())\n",
        "\n",
        "print(\"Accuracy: %f\", correct / total)\n"
      ],
      "execution_count": 48,
      "outputs": [
        {
          "output_type": "stream",
          "name": "stdout",
          "text": [
            "Accuracy: %f 0.7076666666666667\n"
          ]
        }
      ]
    },
    {
      "cell_type": "code",
      "metadata": {
        "colab": {
          "base_uri": "https://localhost:8080/",
          "height": 281
        },
        "id": "aF-b07p453km",
        "outputId": "bec723ee-7946-463f-8dfc-1c2f85c70ffb"
      },
      "source": [
        "img_t, label = cifar2[131]\n",
        "plt.imshow(img_t.permute(1, 2, 0))\n",
        "plt.title(class_names[label])\n",
        "plt.show()"
      ],
      "execution_count": 58,
      "outputs": [
        {
          "output_type": "display_data",
          "data": {
            "image/png": "[encoded data removed]",
            "text/plain": [
              "<Figure size 432x288 with 1 Axes>"
            ]
          },
          "metadata": {
            "needs_background": "light"
          }
        }
      ]
    },
    {
      "cell_type": "code",
      "metadata": {
        "id": "hh1sHXje6x6w"
      },
      "source": [
        "out = model(img_t.view(1, -1))"
      ],
      "execution_count": 59,
      "outputs": []
    },
    {
      "cell_type": "code",
      "metadata": {
        "colab": {
          "base_uri": "https://localhost:8080/",
          "height": 36
        },
        "id": "S7LEl5e56SlG",
        "outputId": "4b857380-10c2-4e4b-b9dd-9ac8d8d82f09"
      },
      "source": [
        "_, index = torch.max(out, dim=1)\n",
        "class_names[index]"
      ],
      "execution_count": 60,
      "outputs": [
        {
          "output_type": "execute_result",
          "data": {
            "application/vnd.google.colaboratory.intrinsic+json": {
              "type": "string"
            },
            "text/plain": [
              "'deer'"
            ]
          },
          "metadata": {},
          "execution_count": 60
        }
      ]
    },
    {
      "cell_type": "code",
      "metadata": {
        "colab": {
          "base_uri": "https://localhost:8080/",
          "height": 281
        },
        "id": "T6219OyIYFxZ",
        "outputId": "a9f02155-d6f3-4e21-b9d7-31fcdbe2b8a4"
      },
      "source": [
        "img_t, label = cifar2[12]\n",
        "plt.imshow(img_t.permute(1, 2, 0))\n",
        "plt.title(class_names[label])\n",
        "plt.show()"
      ],
      "execution_count": 80,
      "outputs": [
        {
          "output_type": "display_data",
          "data": {
            "image/png": "[encoded data removed]",
            "text/plain": [
              "<Figure size 432x288 with 1 Axes>"
            ]
          },
          "metadata": {
            "needs_background": "light"
          }
        }
      ]
    },
    {
      "cell_type": "code",
      "metadata": {
        "id": "RGib915qYHUb"
      },
      "source": [
        "out = model(img_t.view(1, -1))"
      ],
      "execution_count": 81,
      "outputs": []
    },
    {
      "cell_type": "code",
      "metadata": {
        "colab": {
          "base_uri": "https://localhost:8080/",
          "height": 36
        },
        "id": "EcQl3nVTYIzk",
        "outputId": "fcc8f940-703d-4936-e0cf-546ed78b1e32"
      },
      "source": [
        "_, index = torch.max(out, dim=1)\n",
        "class_names[index]"
      ],
      "execution_count": 82,
      "outputs": [
        {
          "output_type": "execute_result",
          "data": {
            "application/vnd.google.colaboratory.intrinsic+json": {
              "type": "string"
            },
            "text/plain": [
              "'automobile'"
            ]
          },
          "metadata": {},
          "execution_count": 82
        }
      ]
    },
    {
      "cell_type": "code",
      "metadata": {
        "colab": {
          "base_uri": "https://localhost:8080/",
          "height": 281
        },
        "id": "c728bVNOYMll",
        "outputId": "665545e2-2498-444e-96d3-4fda2a4aee73"
      },
      "source": [
        "img_t, label = cifar2[1]\n",
        "plt.imshow(img_t.permute(1, 2, 0))\n",
        "plt.title(class_names[label])\n",
        "plt.show()"
      ],
      "execution_count": 64,
      "outputs": [
        {
          "output_type": "display_data",
          "data": {
            "image/png": "[encoded data removed]",
            "text/plain": [
              "<Figure size 432x288 with 1 Axes>"
            ]
          },
          "metadata": {
            "needs_background": "light"
          }
        }
      ]
    },
    {
      "cell_type": "code",
      "metadata": {
        "id": "iF0MLCSnYO4Z"
      },
      "source": [
        "out = model(img_t.view(1, -1))"
      ],
      "execution_count": 65,
      "outputs": []
    },
    {
      "cell_type": "code",
      "metadata": {
        "colab": {
          "base_uri": "https://localhost:8080/",
          "height": 36
        },
        "id": "nBMOPbX3YPz0",
        "outputId": "ae308d0a-f13d-4195-f47f-a7377e9b2b18"
      },
      "source": [
        "_, index = torch.max(out, dim=1)\n",
        "class_names[index]"
      ],
      "execution_count": 66,
      "outputs": [
        {
          "output_type": "execute_result",
          "data": {
            "application/vnd.google.colaboratory.intrinsic+json": {
              "type": "string"
            },
            "text/plain": [
              "'truck'"
            ]
          },
          "metadata": {},
          "execution_count": 66
        }
      ]
    }
  ]
}